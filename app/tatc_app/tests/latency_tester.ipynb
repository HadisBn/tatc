{
 "cells": [
  {
   "cell_type": "code",
   "execution_count": 1,
   "metadata": {},
   "outputs": [],
   "source": [
    "from tatc.analysis import (\n",
    "    collect_observations,\n",
    "    collect_downlinks,\n",
    "    compute_latencies,\n",
    "    reduce_latencies,\n",
    "    grid_latencies,\n",
    "    compute_latencies_optimized\n",
    ")\n",
    "from tatc.schemas import (\n",
    "    Point,\n",
    "    GroundStation,\n",
    "    WalkerConstellation,\n",
    "    TwoLineElements,\n",
    "    Instrument,\n",
    ")\n",
    "from tatc.generation import generate_cubed_sphere_points, generate_cubed_sphere_cells\n",
    "\n",
    "from datetime import datetime, timedelta, timezone\n",
    "import pandas as pd"
   ]
  },
  {
   "cell_type": "code",
   "execution_count": 2,
   "metadata": {},
   "outputs": [
    {
     "name": "stdout",
     "output_type": "stream",
     "text": [
      "0:00:00.089644\n"
     ]
    }
   ],
   "source": [
    "\n",
    "instrument = Instrument(name=\"Test\", field_of_regard=180.0)\n",
    "orbit = TwoLineElements(\n",
    "    tle=[\n",
    "        \"1 25544U 98067A   22171.11255782  .00008307  00000+0  15444-3 0  9992\",\n",
    "        \"2 25544  51.6448 322.0970 0003980 282.3738 231.6559 15.49798078345636\",\n",
    "    ]\n",
    ")\n",
    "satellite = WalkerConstellation(\n",
    "    name=\"Test\",\n",
    "    orbit=orbit,\n",
    "    instruments=[instrument],\n",
    "    number_satellites=500,\n",
    "    number_planes=10,\n",
    ")\n",
    "station = GroundStation(\n",
    "    name=\"Station 1\", latitude=0, longitude=180, min_elevation_angle=10\n",
    ")\n",
    "start = datetime(2022, 6, 1, tzinfo=timezone.utc)\n",
    "end = datetime(2022, 6, 2, tzinfo=timezone.utc)\n",
    "\n",
    "tatc_results_downlinks = pd.concat(\n",
    "    [\n",
    "        collect_downlinks([station], sat, start, end)\n",
    "        for sat in satellite.generate_members()\n",
    "    ],\n",
    "    ignore_index=True,\n",
    ")\n",
    "\n",
    "tatc_results_observations = pd.concat(\n",
    "    [\n",
    "        collect_observations(point, sat, instrument, start, end)\n",
    "        for point in generate_cubed_sphere_points(5000e3).apply(\n",
    "            lambda r: Point(\n",
    "                id=r.point_id,\n",
    "                latitude=r.geometry.y,\n",
    "                longitude=r.geometry.x,\n",
    "            ),\n",
    "            axis=1,\n",
    "        )\n",
    "        for sat in satellite.generate_members()\n",
    "    ],\n",
    "    ignore_index=True,\n",
    ")"
   ]
  },
  {
   "cell_type": "code",
   "execution_count": null,
   "metadata": {},
   "outputs": [],
   "source": [
    "start=datetime.now()\n",
    "suboptim = compute_latencies(tatc_results_observations, tatc_results_downlinks)\n",
    "print(datetime.now()-start)"
   ]
  },
  {
   "cell_type": "code",
   "execution_count": null,
   "metadata": {},
   "outputs": [],
   "source": [
    "start=datetime.now()\n",
    "optim = compute_latencies_optimized(tatc_results_observations, tatc_results_downlinks)\n",
    "print(datetime.now()-start)"
   ]
  },
  {
   "cell_type": "code",
   "execution_count": null,
   "metadata": {},
   "outputs": [],
   "source": [
    "pd.concat([suboptim,optim]).drop_duplicates(keep=False)"
   ]
  }
 ],
 "metadata": {
  "kernelspec": {
   "display_name": "tatc_env",
   "language": "python",
   "name": "python3"
  },
  "language_info": {
   "codemirror_mode": {
    "name": "ipython",
    "version": 3
   },
   "file_extension": ".py",
   "mimetype": "text/x-python",
   "name": "python",
   "nbconvert_exporter": "python",
   "pygments_lexer": "ipython3",
   "version": "3.10.13"
  }
 },
 "nbformat": 4,
 "nbformat_minor": 2
}
