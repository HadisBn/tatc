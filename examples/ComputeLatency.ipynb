{
 "cells": [
  {
   "cell_type": "markdown",
   "id": "742c3393",
   "metadata": {},
   "source": [
    "# TAT-C: Compute Latency Example\n",
    "\n",
    "This example demonstrates how to use direct function calls of the low-level TAT-C library to perform latency analysis."
   ]
  }
 ],
 "metadata": {
  "kernelspec": {
   "display_name": "Python 3 (ipykernel)",
   "language": "python",
   "name": "python3"
  },
  "language_info": {
   "codemirror_mode": {
    "name": "ipython",
    "version": 3
   },
   "file_extension": ".py",
   "mimetype": "text/x-python",
   "name": "python",
   "nbconvert_exporter": "python",
   "pygments_lexer": "ipython3",
   "version": "3.10.5"
  }
 },
 "nbformat": 4,
 "nbformat_minor": 5
}
